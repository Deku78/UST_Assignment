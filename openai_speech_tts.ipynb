{
 "cells": [
  {
   "cell_type": "code",
   "execution_count": null,
   "id": "3b4dee1f-63a9-4f93-a39f-19e54a677e33",
   "metadata": {},
   "outputs": [],
   "source": [
    "!pip install openai pyaudio SpeechRecognition"
   ]
  },
  {
   "cell_type": "code",
   "execution_count": null,
   "id": "3eb28660-c291-45aa-a0fc-d5183eb409f0",
   "metadata": {},
   "outputs": [
    {
     "name": "stdout",
     "output_type": "stream",
     "text": [
      "Starting chatbot...\n",
      "Listening...\n",
      "Google Speech Recognition could not understand audio\n",
      "Listening...\n",
      "User said: hey how are you\n",
      "OpenAI API Error: Error code: 404 - {'error': {'message': 'The model `gpt-4-turbo` does not exist or you do not have access to it.', 'type': 'invalid_request_error', 'param': None, 'code': 'model_not_found'}}\n",
      "Listening...\n",
      "Google Speech Recognition could not understand audio\n",
      "Listening...\n",
      "Google Speech Recognition could not understand audio\n",
      "Listening...\n",
      "Google Speech Recognition could not understand audio\n",
      "Listening...\n",
      "Google Speech Recognition could not understand audio\n",
      "Listening...\n"
     ]
    }
   ],
   "source": [
    "import openai\n",
    "import speech_recognition as sr\n",
    "import pyttsx3\n",
    "import asyncio\n",
    "import nest_asyncio\n",
    "\n",
    "# OpenAI API Key\n",
    "OPENAI_API_KEY = \""\n",
    "\n",
    "# Initialize OpenAI Client\n",
    "client = openai.OpenAI(api_key=OPENAI_API_KEY)\n",
    "\n",
    "# Initialize Text-to-Speech Engine\n",
    "tts_engine = pyttsx3.init()\n",
    "tts_engine.setProperty('rate', 150)\n",
    "\n",
    "def text_to_speech(text):\n",
    "    tts_engine.say(text)\n",
    "    tts_engine.runAndWait()\n",
    "\n",
    "def stop_speech():\n",
    "    \"\"\"Stops any ongoing speech output.\"\"\"\n",
    "    tts_engine.stop()\n",
    "    print(\"Speech stopped.\")\n",
    "\n",
    "async def chatbot():\n",
    "    recognizer = sr.Recognizer()\n",
    "    mic = sr.Microphone()\n",
    "    while True:\n",
    "        try:\n",
    "            with mic as source:\n",
    "                recognizer.adjust_for_ambient_noise(source)\n",
    "                print(\"Listening...\")\n",
    "                audio = recognizer.listen(source)\n",
    "                try:\n",
    "                    text = recognizer.recognize_google(audio)\n",
    "                    print(f\"User said: {text}\")\n",
    "                except sr.UnknownValueError:\n",
    "                    print(\"Google Speech Recognition could not understand audio\")\n",
    "                    text_to_speech(\"I didn't catch that, please repeat.\")\n",
    "                    continue\n",
    "                except sr.RequestError:\n",
    "                    print(\"Could not request results from Google Speech Recognition\")\n",
    "                    text_to_speech(\"Speech recognition service is unavailable.\")\n",
    "                    continue\n",
    "                \n",
    "                try:\n",
    "                    response = client.chat.completions.create(\n",
    "                        model=\"gpt-4-turbo\",\n",
    "                        messages=[{\"role\": \"user\", \"content\": text}]\n",
    "                    )\n",
    "                    reply = response.choices[0].message.content\n",
    "                    print(f\"Chatbot: {reply}\")\n",
    "                    text_to_speech(reply)\n",
    "                except openai.OpenAIError as e:\n",
    "                    print(f\"OpenAI API Error: {e}\")\n",
    "                    text_to_speech(\"An error occurred while processing your request.\")\n",
    "        except Exception as e:\n",
    "            print(f\"Error: {e}\")\n",
    "            text_to_speech(\"An error occurred. Check console for details.\")\n",
    "\n",
    "if __name__ == \"__main__\":\n",
    "    print(\"Starting chatbot...\")\n",
    "    nest_asyncio.apply()\n",
    "    asyncio.get_event_loop().run_until_complete(chatbot())\n"
   ]
  },
  {
   "cell_type": "code",
   "execution_count": null,
   "id": "70185467-c88f-4314-94a2-6690e0e90377",
   "metadata": {},
   "outputs": [],
   "source": []
  }
 ],
 "metadata": {
  "kernelspec": {
   "display_name": "Python [conda env:base] *",
   "language": "python",
   "name": "conda-base-py"
  },
  "language_info": {
   "codemirror_mode": {
    "name": "ipython",
    "version": 3
   },
   "file_extension": ".py",
   "mimetype": "text/x-python",
   "name": "python",
   "nbconvert_exporter": "python",
   "pygments_lexer": "ipython3",
   "version": "3.12.7"
  }
 },
 "nbformat": 4,
 "nbformat_minor": 5
}
